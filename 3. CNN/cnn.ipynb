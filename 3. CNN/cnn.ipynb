{
  "nbformat": 4,
  "nbformat_minor": 0,
  "metadata": {
    "colab": {
      "provenance": []
    },
    "kernelspec": {
      "name": "python3",
      "display_name": "Python 3"
    },
    "language_info": {
      "name": "python"
    }
  },
  "cells": [
    {
      "cell_type": "code",
      "execution_count": 1,
      "metadata": {
        "id": "KlEFYW-AW1YX"
      },
      "outputs": [],
      "source": [
        "import torch\n",
        "import torch.nn as nn\n",
        "import torch.nn.functional as F\n",
        "import torch.optim as optim\n",
        "from torchvision import datasets, transforms\n",
        "import numpy as np\n",
        "import matplotlib.pyplot as plt\n",
        "import random\n",
        "\n",
        "from torchsummary import summary"
      ]
    },
    {
      "cell_type": "code",
      "source": [
        "from sklearn.datasets import fetch_openml\n",
        "from sklearn.model_selection import train_test_split\n",
        "import numpy as np\n",
        "\n",
        "mnist = fetch_openml('mnist_784', version=1)\n",
        "X = mnist['data']\n",
        "y = mnist['target']\n",
        "X_train, X_test, y_train, y_test = train_test_split(X, y, test_size=0.2)\n",
        "\n",
        "y_train = y_train.astype(np.float32)\n",
        "y_test = y_test.astype(np.float32)\n",
        "\n",
        "import torch\n",
        "\n",
        "X_train = torch.Tensor(np.array(X_train)).view(-1, 1, 28, 28)\n",
        "y_train = torch.LongTensor(np.array(y_train))\n",
        "X_test = torch.Tensor(np.array(X_test)).view(-1, 1, 28, 28)\n",
        "y_test = torch.LongTensor(np.array(y_test))\n"
      ],
      "metadata": {
        "colab": {
          "base_uri": "https://localhost:8080/"
        },
        "id": "RIlWdoxzW3FK",
        "outputId": "71b300a8-1f06-47d5-f477-7f510f909d7f"
      },
      "execution_count": 15,
      "outputs": [
        {
          "output_type": "stream",
          "name": "stderr",
          "text": [
            "/usr/local/lib/python3.10/dist-packages/sklearn/datasets/_openml.py:968: FutureWarning: The default value of `parser` will change from `'liac-arff'` to `'auto'` in 1.4. You can set `parser='auto'` to silence this warning. Therefore, an `ImportError` will be raised from 1.4 if the dataset is dense and pandas is not installed. Note that the pandas parser may return different data types. See the Notes Section in fetch_openml's API doc for details.\n",
            "  warn(\n"
          ]
        }
      ]
    },
    {
      "cell_type": "code",
      "source": [
        "import torch\n",
        "from torch.utils.data import TensorDataset, DataLoader\n",
        "\n",
        "# Convert numpy arrays to torch.Tensors\n",
        "X_train = torch.Tensor(X_train)\n",
        "y_train = torch.LongTensor(y_train)\n",
        "X_test = torch.Tensor(X_test)\n",
        "y_test = torch.LongTensor(y_test)\n",
        "\n",
        "# Create TensorDatasets\n",
        "train_dataset = TensorDataset(X_train, y_train)\n",
        "test_dataset = TensorDataset(X_test, y_test)\n",
        "\n",
        "# Define batch size\n",
        "batch_size = 32\n",
        "\n",
        "# Create DataLoaders\n",
        "train_loader = DataLoader(train_dataset, batch_size=batch_size, shuffle=True)\n",
        "test_loader = DataLoader(test_dataset, batch_size=batch_size, shuffle=False)"
      ],
      "metadata": {
        "id": "udhV1CICbhma"
      },
      "execution_count": 17,
      "outputs": []
    },
    {
      "cell_type": "code",
      "source": [
        "# Số classes trong tập MNIST\n",
        "num_classes = 10 \n",
        "\n",
        "# Số epoch\n",
        "epochs = 1\n",
        "\n",
        "# Các tham số cần thiết trong quá trình training\n",
        "learning_rate = 0.001\n",
        "batch_size = 128\n",
        "display_step = 100\n",
        "\n",
        "# Model path\n",
        "checkpoint = 'model.pth'\n",
        "\n",
        "# device: cuda\n",
        "device = torch.device('cuda' if torch.cuda.is_available() else 'cpu')\n",
        "device"
      ],
      "metadata": {
        "colab": {
          "base_uri": "https://localhost:8080/"
        },
        "id": "1uE0ZZYWYufE",
        "outputId": "01da28e4-543f-4054-c018-679185babaf8"
      },
      "execution_count": 18,
      "outputs": [
        {
          "output_type": "execute_result",
          "data": {
            "text/plain": [
              "device(type='cpu')"
            ]
          },
          "metadata": {},
          "execution_count": 18
        }
      ]
    },
    {
      "cell_type": "code",
      "source": [
        "class Net(nn.Module):\n",
        "    def __init__(self):\n",
        "        super(Net, self).__init__()\n",
        "        # 3x(Conv2d -> ReLU) -> MaxPool -> Dropout -> Flatten -> 2x(Linear ->  ReLU) -> Linear\n",
        "        \n",
        "        self.relu = nn.ReLU()\n",
        "        self.dropout = nn.Dropout(0.3)\n",
        "        self.flatten = nn.Flatten()\n",
        "        self.conv1 = nn.Conv2d(in_channels=1, out_channels=32, kernel_size=3, stride=1, padding=0)\n",
        "        self.conv2 = nn.Conv2d(in_channels=32, out_channels=64, kernel_size=3, stride=1, padding=0)\n",
        "        self.conv3 = nn.Conv2d(in_channels=64, out_channels=64, kernel_size=3, stride=1, padding=0)\n",
        "        self.maxpool = nn.MaxPool2d(kernel_size=2, stride=2)\n",
        "        self.fc1 = nn.Linear(in_features=11*11*64, out_features=128) \n",
        "        self.fc2 = nn.Linear(in_features=128, out_features=64)\n",
        "        self.fc3 = nn.Linear(in_features=64, out_features=10)\n",
        "        \n",
        "    def forward(self, x):\n",
        "        ### START CODE HEAR ≈ 18 lines\n",
        "        ## 3x(Conv2d -> ReLU) -> MaxPool -> Dropout -> Flatten -> 2x(Linear ->  ReLU) -> Linear\n",
        "\n",
        "        x = self.conv1(x)\n",
        "        x = self.relu(x)\n",
        "        x = self.conv2(x)\n",
        "        x = self.relu(x)\n",
        "        x = self.conv3(x)\n",
        "        x = self.relu(x)\n",
        "        x = self.maxpool(x)\n",
        "        x = self.dropout(x)\n",
        "        x = self.flatten(x)\n",
        "        x = self.fc1(x)\n",
        "        x = self.relu(x)\n",
        "        x = self.fc2(x)\n",
        "        x = self.relu(x)\n",
        "        x = self.fc3(x)\n",
        "        ### END CODE HERE\n",
        "        return x"
      ],
      "metadata": {
        "id": "7CzEhWMEXI9U"
      },
      "execution_count": 19,
      "outputs": []
    },
    {
      "cell_type": "code",
      "source": [
        "# Load model vào GPU\n",
        "model = Net().to(device)\n",
        "summary(model, (1, 28, 28))"
      ],
      "metadata": {
        "colab": {
          "base_uri": "https://localhost:8080/"
        },
        "id": "lX8DtgLlXLN0",
        "outputId": "5efb57be-de57-4099-ab06-c9bfaca55bc0"
      },
      "execution_count": 20,
      "outputs": [
        {
          "output_type": "stream",
          "name": "stdout",
          "text": [
            "----------------------------------------------------------------\n",
            "        Layer (type)               Output Shape         Param #\n",
            "================================================================\n",
            "            Conv2d-1           [-1, 32, 26, 26]             320\n",
            "              ReLU-2           [-1, 32, 26, 26]               0\n",
            "            Conv2d-3           [-1, 64, 24, 24]          18,496\n",
            "              ReLU-4           [-1, 64, 24, 24]               0\n",
            "            Conv2d-5           [-1, 64, 22, 22]          36,928\n",
            "              ReLU-6           [-1, 64, 22, 22]               0\n",
            "         MaxPool2d-7           [-1, 64, 11, 11]               0\n",
            "           Dropout-8           [-1, 64, 11, 11]               0\n",
            "           Flatten-9                 [-1, 7744]               0\n",
            "           Linear-10                  [-1, 128]         991,360\n",
            "             ReLU-11                  [-1, 128]               0\n",
            "           Linear-12                   [-1, 64]           8,256\n",
            "             ReLU-13                   [-1, 64]               0\n",
            "           Linear-14                   [-1, 10]             650\n",
            "================================================================\n",
            "Total params: 1,056,010\n",
            "Trainable params: 1,056,010\n",
            "Non-trainable params: 0\n",
            "----------------------------------------------------------------\n",
            "Input size (MB): 0.00\n",
            "Forward/backward pass size (MB): 1.55\n",
            "Params size (MB): 4.03\n",
            "Estimated Total Size (MB): 5.58\n",
            "----------------------------------------------------------------\n"
          ]
        }
      ]
    },
    {
      "cell_type": "code",
      "source": [
        "# Define loss and optimizer\n",
        "criterion = nn.CrossEntropyLoss() # CrossEntropy\n",
        "optimizer = optim.Adam(model.parameters(), lr=learning_rate) # Adam Optimizer set params=model.parameters(), lr=learning_rate\n",
        "best_val_loss = 999\n",
        "\n",
        "# Loop for each epoch\n",
        "for epoch in range(1, epochs + 1):\n",
        "\n",
        "    # Quá trình training \n",
        "    model.train()\n",
        "    for batch_idx, (data, target) in enumerate(train_loader):\n",
        "        data, target = data.to(device), target.to(device)\n",
        "\n",
        "        # Clear gradients for this training step \n",
        "        optimizer.zero_grad()\n",
        "        output = model(data)\n",
        "\n",
        "        # Backpropagation, compute gradients\n",
        "        loss = criterion(output, target)\n",
        "        loss.backward()\n",
        "\n",
        "        # Apply gradients\n",
        "        optimizer.step()\n",
        "        if batch_idx % display_step == 0:\n",
        "            print('Train Epoch {}: [{}/{} ({:.0f}%)]\\tTrain Loss: {:.6f}'.format(\n",
        "                epoch, batch_idx * len(data), len(train_loader.dataset),\n",
        "                100. * batch_idx / len(train_loader), loss.item()))\n",
        "            \n",
        "    # Quá trình testing \n",
        "    model.eval()\n",
        "    test_loss = 0\n",
        "    correct = 0\n",
        "    # Set no grad cho quá trình testing\n",
        "    with torch.no_grad():\n",
        "        for data, target in test_loader:\n",
        "            data, target = data.to(device), target.to(device)\n",
        "            output = model(data)\n",
        "            output = F.log_softmax(output, dim=1) # Sử dụng hàm log_sotmax để tính xác suất cho output\n",
        "            test_loss += criterion(output, target) \n",
        "            pred = output.argmax(dim = 1, keepdim = True) # Sử dụng hàm argmax để lấy predicted label, chú ý: dim = 1, keepdim=True\n",
        "            correct += pred.eq(target.view_as(pred)).sum().item()\n",
        "    test_loss /= len(test_loader.dataset) \n",
        "    if test_loss < best_val_loss:\n",
        "      best_val_loss = test_loss\n",
        "      torch.save(model.state_dict(), checkpoint)  # Lưu model path\n",
        "      print(\"***********    TEST_ACC = {:.2f}%    ***********\".format(correct/100))"
      ],
      "metadata": {
        "colab": {
          "base_uri": "https://localhost:8080/"
        },
        "id": "QHm6WgrdZYUU",
        "outputId": "faa4dd55-77de-4989-ee17-311267c89630"
      },
      "execution_count": 21,
      "outputs": [
        {
          "output_type": "stream",
          "name": "stdout",
          "text": [
            "Train Epoch 1: [0/56000 (0%)]\tTrain Loss: 2.769090\n",
            "Train Epoch 1: [3200/56000 (6%)]\tTrain Loss: 0.449475\n",
            "Train Epoch 1: [6400/56000 (11%)]\tTrain Loss: 0.160228\n",
            "Train Epoch 1: [9600/56000 (17%)]\tTrain Loss: 0.122669\n",
            "Train Epoch 1: [12800/56000 (23%)]\tTrain Loss: 0.004734\n",
            "Train Epoch 1: [16000/56000 (29%)]\tTrain Loss: 0.306578\n",
            "Train Epoch 1: [19200/56000 (34%)]\tTrain Loss: 0.182485\n",
            "Train Epoch 1: [22400/56000 (40%)]\tTrain Loss: 0.004591\n",
            "Train Epoch 1: [25600/56000 (46%)]\tTrain Loss: 0.149170\n",
            "Train Epoch 1: [28800/56000 (51%)]\tTrain Loss: 0.321630\n",
            "Train Epoch 1: [32000/56000 (57%)]\tTrain Loss: 0.042211\n",
            "Train Epoch 1: [35200/56000 (63%)]\tTrain Loss: 0.036035\n",
            "Train Epoch 1: [38400/56000 (69%)]\tTrain Loss: 0.083660\n",
            "Train Epoch 1: [41600/56000 (74%)]\tTrain Loss: 0.039616\n",
            "Train Epoch 1: [44800/56000 (80%)]\tTrain Loss: 0.285082\n",
            "Train Epoch 1: [48000/56000 (86%)]\tTrain Loss: 0.004530\n",
            "Train Epoch 1: [51200/56000 (91%)]\tTrain Loss: 0.004854\n",
            "Train Epoch 1: [54400/56000 (97%)]\tTrain Loss: 0.021043\n",
            "***********    TEST_ACC = 136.48%    ***********\n"
          ]
        }
      ]
    },
    {
      "cell_type": "code",
      "source": [
        "# Load lại model đã train\n",
        "model.load_state_dict(torch.load(checkpoint))\n",
        "\n",
        "# Xem lại thông số của model \n",
        "model.eval()"
      ],
      "metadata": {
        "colab": {
          "base_uri": "https://localhost:8080/"
        },
        "id": "o5S5JSuoZZ-x",
        "outputId": "5ebc9f30-243d-4104-acfe-a43c349033d5"
      },
      "execution_count": 22,
      "outputs": [
        {
          "output_type": "execute_result",
          "data": {
            "text/plain": [
              "Net(\n",
              "  (relu): ReLU()\n",
              "  (dropout): Dropout(p=0.3, inplace=False)\n",
              "  (flatten): Flatten(start_dim=1, end_dim=-1)\n",
              "  (conv1): Conv2d(1, 32, kernel_size=(3, 3), stride=(1, 1))\n",
              "  (conv2): Conv2d(32, 64, kernel_size=(3, 3), stride=(1, 1))\n",
              "  (conv3): Conv2d(64, 64, kernel_size=(3, 3), stride=(1, 1))\n",
              "  (maxpool): MaxPool2d(kernel_size=2, stride=2, padding=0, dilation=1, ceil_mode=False)\n",
              "  (fc1): Linear(in_features=7744, out_features=128, bias=True)\n",
              "  (fc2): Linear(in_features=128, out_features=64, bias=True)\n",
              "  (fc3): Linear(in_features=64, out_features=10, bias=True)\n",
              ")"
            ]
          },
          "metadata": {},
          "execution_count": 22
        }
      ]
    },
    {
      "cell_type": "code",
      "source": [
        "# Lấy ra một batch trong tập test\n",
        "item = iter(test_loader)\n",
        "data, target = next(item)\n",
        "\n",
        "# Lấy random index của một phần tử trong batch đó\n",
        "test_idx = random.choice(range(len(data)))\n",
        "\n",
        "# Lấy một ví dụ trong tập test\n",
        "data = data[test_idx]\n",
        "target = target[test_idx]\n",
        "assert data.shape == (1, 28, 28)"
      ],
      "metadata": {
        "id": "LYr_eq3nZcZ1"
      },
      "execution_count": 27,
      "outputs": []
    },
    {
      "cell_type": "code",
      "source": [
        "# Predict sử dụng model đã train\n",
        "def plot(data, model):\n",
        "  data = torch.unsqueeze(data, dim=0) # unsqueeze data\n",
        "  data = data.to(device)\n",
        "  output = model(data)\n",
        "  output = F.log_softmax(output, dim=1) # log softmax, chú ý dim\n",
        "  pred = output.argmax(dim=1, keepdim=True) # argmax, chú ý keepdim, dim=1\n",
        "  print(\"Predict Number : \", pred[0][0].detach().cpu().numpy()) \n",
        "  plt.imshow(data[0][0].detach().cpu().numpy(), cmap='gray')\n",
        "  plt.show()"
      ],
      "metadata": {
        "id": "ekGUw6PlZdb3"
      },
      "execution_count": 28,
      "outputs": []
    },
    {
      "cell_type": "code",
      "source": [
        "plot(data, model)"
      ],
      "metadata": {
        "colab": {
          "base_uri": "https://localhost:8080/",
          "height": 447
        },
        "id": "Z7t4nQ4eZer_",
        "outputId": "9a113480-a37c-488b-855c-1f5d9696796b"
      },
      "execution_count": 29,
      "outputs": [
        {
          "output_type": "stream",
          "name": "stdout",
          "text": [
            "Predict Number :  4\n"
          ]
        },
        {
          "output_type": "display_data",
          "data": {
            "text/plain": [
              "<Figure size 640x480 with 1 Axes>"
            ],
            "image/png": "[encoded data removed]"
          },
          "metadata": {}
        }
      ]
    },
    {
      "cell_type": "code",
      "source": [
        "import torch\n",
        "from PIL import Image\n",
        "import numpy as np\n",
        "\n",
        "# Load the PyTorch model from the .pth file\n",
        "model_1 = torch.load('model.pth')\n",
        "\n",
        "# Load the image and convert it to a grayscale numpy array\n",
        "img = Image.open(\"/content/gamma_93081.jpg\").convert(\"L\")\n",
        "img = img.resize((28, 28), Image.ANTIALIAS) \n",
        "img_array = np.array(img)\n",
        "\n",
        "# Normalize the pixel values to be between 0 and 1\n",
        "img_array = img_array.astype(np.float32) /255.0\n",
        "\n",
        "# Convert the numpy array to a PyTorch tensor\n",
        "img_tensor = torch.from_numpy(img_array)\n",
        "\n",
        "# Reshape the PyTorch tensor to match the expected input shape of the model\n",
        "img_tensor = img_tensor.reshape((1, 1, 28, 28))\n",
        "\n",
        "# Make a using the PyTorch model\n",
        "with torch.no_grad():\n",
        "    output = model(img_tensor)\n",
        "    \n",
        "# Get the predicted digit by selecting the class with the highest output probability\n",
        "predicted_digit = torch.argmax(output).item()\n",
        "\n",
        "print(\"Predicted Digit:\", predicted_digit)"
      ],
      "metadata": {
        "colab": {
          "base_uri": "https://localhost:8080/"
        },
        "id": "MqXZiBbMhGNR",
        "outputId": "85d0fc86-e20e-4b99-e701-53667f9a55fc"
      },
      "execution_count": 32,
      "outputs": [
        {
          "output_type": "stream",
          "name": "stdout",
          "text": [
            "Predicted Digit: 4\n"
          ]
        }
      ]
    }
  ]
}